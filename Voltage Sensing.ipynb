{
 "cells": [
  {
   "cell_type": "code",
   "execution_count": 1,
   "id": "3bfc1e34",
   "metadata": {},
   "outputs": [],
   "source": [
    "# Imports\n",
    "import pandas as pd\n",
    "import numpy as np\n",
    "from numpy import absolute\n",
    "from numpy import mean, std\n",
    "\n",
    "from scipy.stats import uniform, randint\n",
    "\n",
    "import matplotlib.pyplot as plt\n",
    "import altair as alt\n",
    "import seaborn as sns\n",
    "from math import sqrt\n",
    "\n",
    "from sklearn import metrics, svm, tree\n",
    "from sklearn.linear_model import LinearRegression\n",
    "from sklearn.linear_model import Ridge\n",
    "from sklearn.compose import TransformedTargetRegressor\n",
    "from sklearn.ensemble import RandomForestRegressor\n",
    "from sklearn.tree import DecisionTreeRegressor\n",
    "from xgboost import XGBRegressor\n",
    "from sklearn.svm import SVR\n",
    "from skopt.space import Real, Categorical\n",
    "\n",
    "from sklearn.preprocessing import OrdinalEncoder, StandardScaler, MinMaxScaler, PowerTransformer, PolynomialFeatures\n",
    "from sklearn.model_selection import train_test_split, KFold, cross_val_score, GridSearchCV, RandomizedSearchCV, learning_curve, cross_validate\n",
    "from sklearn.metrics import make_scorer, confusion_matrix, classification_report, f1_score, ConfusionMatrixDisplay, r2_score, mean_absolute_percentage_error, mean_squared_error, mean_squared_error, mean_absolute_error\n",
    "from sklearn.pipeline import Pipeline"
   ]
  },
  {
   "cell_type": "markdown",
   "id": "231b245e",
   "metadata": {},
   "source": [
    "# Define Fuctions"
   ]
  },
  {
   "cell_type": "code",
   "execution_count": 2,
   "id": "cec6bd15",
   "metadata": {},
   "outputs": [],
   "source": [
    "def plotGraph(y_test,y_pred,regressorName):\n",
    "    if max(y_test) >= max(y_pred):\n",
    "        my_range = int(max(y_test))\n",
    "    else:\n",
    "        my_range = int(max(y_pred))\n",
    "    plt.style.use('seaborn')    \n",
    "    plt.scatter(range(len(y_test)), y_test, color='blue')\n",
    "    plt.scatter(range(len(y_pred)), y_pred, color='red')\n",
    "    plt.title(regressorName)\n",
    "    plt.show()\n",
    "    return\n",
    "\n",
    "import warnings\n",
    "warnings.simplefilter(action='ignore', category=FutureWarning)\n",
    "\n",
    "def plotDiff(test_set, pred_set):\n",
    "  pred = pd.DataFrame(pred_set)\n",
    "  pred = pred.set_index(test_set.index)\n",
    "  diff = test_set['V'] - pred[0]\n",
    "  diff = pd.DataFrame(diff)\n",
    "  plt.figure(figsize = (5, 10))\n",
    "  sns.boxplot(data=diff).set(title='Boxplot of diff between all voltages and predicted voltages')\n",
    "  plt.figure()\n",
    "  sns.histplot(diff).set(title='Diff between all voltages and predicted voltages')\n",
    "  for i in sorted(test_set['V'].unique()):\n",
    "    plt.figure()\n",
    "    sns.histplot(diff[test_set['V'] == i], binwidth=0.001).set(title={'Voltage', i})\n",
    "\n",
    "def plotCodes(test_set, X_set, pred_set):\n",
    "  pred = pd.DataFrame(pred_set)\n",
    "  pred = pred.rename(columns={0: 'predicted_V'})\n",
    "  pred = pred.set_index(test_set.index)\n",
    "\n",
    "  diff = test_set['V'] - pred['predicted_V']\n",
    "  diff = pd.DataFrame(diff)\n",
    "  diff = diff.rename(columns={0: 'diff'})\n",
    "  diff = diff.set_index(test_set.index)\n",
    "\n",
    "  comb = X_set.join(test_set, how='left')\n",
    "  comb = comb.join(pred, how='left')\n",
    "  comb = comb.join(diff, how='left')\n",
    "\n",
    "  zero = comb[comb['code'] == 0]\n",
    "  rest = comb[(comb['code'] != 31) & (comb['code'] != 0)]\n",
    "  t = comb[comb['code'] == 31]\n",
    "\n",
    "  plt.figure()\n",
    "  sns.histplot(zero['diff'], binwidth=0.01).set(title={'Code 0'})\n",
    "\n",
    "  plt.figure()\n",
    "  sns.histplot(t['diff'], binwidth=0.01).set(title={'Code 31'})\n",
    "  \n",
    "  plt.figure()\n",
    "  sns.histplot(rest['diff'], binwidth=0.01).set(title={'Code 1-30'})\n",
    "\n",
    "\n",
    "def find_con(y_test, X_test, pred):\n",
    "  comb = y_test.join(pd.DataFrame(pred).set_index(y_test.index))\n",
    "  df = X_test.join(comb)\n",
    "  for i in sorted(df['V'].unique()):\n",
    "    std = df[df['V'] == i][0].to_frame().std()[0] * 1.96\n",
    "    lower, upper = df[df['V'] == i].mean()[0] - std, df[df['V'] == i].mean()[0] + std\n",
    "    print('95% sample confidence interval for voltage {}:[{}, {}]'.format(i, lower, upper))"
   ]
  },
  {
   "cell_type": "code",
   "execution_count": 3,
   "id": "e1820bda",
   "metadata": {},
   "outputs": [],
   "source": [
    "# data pre-processing and modelling functions\n",
    "def check_overfitting(cv_results, threshold=0.2):\n",
    "    train_scores = cv_results['mean_train_score']\n",
    "    val_scores = cv_results['mean_test_score']\n",
    "\n",
    "    best_index = np.argmin(val_scores)\n",
    "    train_rmse = -train_scores[best_index]\n",
    "    val_rmse = -val_scores[best_index]\n",
    "    rmse_diff = train_rmse - val_rmse\n",
    "\n",
    "    if rmse_diff > threshold:\n",
    "        print(f\"Warning: Potential overfitting detected! (RMSE Difference: {rmse_diff:.3f})\")\n",
    "    else:\n",
    "        print(f\"No overfitting detected. (RMSE Difference: {rmse_diff:.3f})\")\n",
    "\n",
    "    return best_index\n",
    "\n",
    "def pipeall_gcv(clf, X, y, params):\n",
    "    model = TransformedTargetRegressor(regressor=clf, transformer=StandardScaler())\n",
    "\n",
    "    rmse_scorer = make_scorer(mean_squared_error, squared=False, greater_is_better=False)\n",
    "    gcv = GridSearchCV(estimator=model, param_grid=params, cv=5, scoring=rmse_scorer, n_jobs=-1,\n",
    "                       return_train_score=True, error_score='raise')\n",
    "    gcv.fit(X, y.values.ravel())\n",
    "\n",
    "    best_index = check_overfitting(gcv.cv_results_)  # check overfitting\n",
    "\n",
    "    print(f\"Best parameters: {gcv.best_params_}\")\n",
    "    print(f\"Training RMSE: {-gcv.cv_results_['mean_train_score'][best_index]:.3f}, \"\n",
    "          f\"Validation RMSE: {-gcv.cv_results_['mean_test_score'][best_index]:.3f}\")\n",
    "\n",
    "    return gcv\n",
    "\n",
    "def pipeall_random(clf, X, y, param_distributions, n_iter=5, early_stopping_rounds=5):\n",
    "    model = TransformedTargetRegressor(regressor=clf, transformer=MinMaxScaler())\n",
    "\n",
    "    rmse_scorer = make_scorer(mean_squared_error, squared=False, greater_is_better=False)\n",
    "\n",
    "    # Randomized Search\n",
    "    rcv = RandomizedSearchCV(\n",
    "        estimator=model, \n",
    "        param_distributions=param_distributions, \n",
    "        n_iter=n_iter,\n",
    "        cv=KFold(n_splits=5, shuffle=True, random_state=22),\n",
    "        scoring=rmse_scorer, \n",
    "        n_jobs=-1, \n",
    "        return_train_score=True, \n",
    "        error_score='raise',\n",
    "    )\n",
    "\n",
    "    # Early Stopping\n",
    "    if hasattr(clf, 'early_stopping_rounds'):\n",
    "        fit_params = {'regressor__early_stopping_rounds': early_stopping_rounds, \n",
    "                      'regressor__eval_metric': 'rmse', \n",
    "                      'regressor__eval_set': [(X, y)]}\n",
    "    else:\n",
    "        fit_params = {}\n",
    "    \n",
    "    if isinstance(clf, XGBRegressor):\n",
    "        xgb_fit_params = {\n",
    "            k.replace('regressor__', ''): v \n",
    "            for k, v in fit_params.items()\n",
    "        }\n",
    "        rcv.fit(X, y.values.ravel(), **xgb_fit_params)\n",
    "    elif hasattr(clf, 'early_stopping_rounds'):\n",
    "        rcv.fit(X, y.values.ravel(), **fit_params)\n",
    "    else:\n",
    "        rcv.fit(X, y.values.ravel())\n",
    "\n",
    "    # check_overfitting\n",
    "    best_index = check_overfitting(rcv.cv_results_)\n",
    "\n",
    "    print(f\"Best parameters: {rcv.best_params_}\")\n",
    "    print(f\"Training RMSE: {-rcv.cv_results_['mean_train_score'][best_index]:.3f}, \"\n",
    "          f\"Validation RMSE: {-rcv.cv_results_['mean_test_score'][best_index]:.3f}\")\n",
    "    \n",
    "    return rcv\n",
    "\n",
    "def pipepoly(clf, polyfea, X, y, param_distributions, cv=5, n_iter=5):\n",
    "    p = Pipeline([(\"polynomial_features\", polyfea),\n",
    "                  (\"scaling\", StandardScaler()),\n",
    "                  (\"model\", clf)])\n",
    "    wrapped = TransformedTargetRegressor(regressor=p, transformer=StandardScaler())\n",
    "    rcv = RandomizedSearchCV(estimator=wrapped, param_distributions=param_distributions,\n",
    "                                       cv=cv, scoring='neg_root_mean_squared_error', n_jobs=-1,\n",
    "                                       return_train_score=True, n_iter=n_iter, random_state=42)\n",
    "    rcv.fit(X, y.values.ravel())\n",
    "\n",
    "    return rcv"
   ]
  },
  {
   "cell_type": "markdown",
   "id": "0b7f9275",
   "metadata": {},
   "source": [
    "# Data Preprocessing"
   ]
  },
  {
   "cell_type": "code",
   "execution_count": 4,
   "id": "11f16d38",
   "metadata": {},
   "outputs": [],
   "source": [
    "pvt_ori = pd.read_csv('./data/pvt_tall_v3.csv')\n",
    "mc_ori = pd.read_csv('./data/mc.csv')\n",
    "\n",
    "# Combine 2 datasets\n",
    "df_ori = pd.concat([pvt_ori, mc_ori]) "
   ]
  },
  {
   "cell_type": "code",
   "execution_count": 5,
   "id": "a674ef9c",
   "metadata": {},
   "outputs": [],
   "source": [
    "df_ori.dropna(axis=1, inplace=True)\n",
    "#mc_ori.dropna(axis=1, inplace=True)"
   ]
  },
  {
   "cell_type": "code",
   "execution_count": 6,
   "id": "d08989e5",
   "metadata": {},
   "outputs": [
    {
     "data": {
      "text/html": [
       "<div>\n",
       "<style scoped>\n",
       "    .dataframe tbody tr th:only-of-type {\n",
       "        vertical-align: middle;\n",
       "    }\n",
       "\n",
       "    .dataframe tbody tr th {\n",
       "        vertical-align: top;\n",
       "    }\n",
       "\n",
       "    .dataframe thead th {\n",
       "        text-align: right;\n",
       "    }\n",
       "</style>\n",
       "<table border=\"1\" class=\"dataframe\">\n",
       "  <thead>\n",
       "    <tr style=\"text-align: right;\">\n",
       "      <th></th>\n",
       "      <th>index</th>\n",
       "      <th>Unnamed: 0</th>\n",
       "      <th>t</th>\n",
       "      <th>v</th>\n",
       "      <th>freq</th>\n",
       "      <th>T</th>\n",
       "      <th>V</th>\n",
       "      <th>p'</th>\n",
       "    </tr>\n",
       "  </thead>\n",
       "  <tbody>\n",
       "    <tr>\n",
       "      <th>0</th>\n",
       "      <td>0</td>\n",
       "      <td>0</td>\n",
       "      <td>-40.0</td>\n",
       "      <td>1.350</td>\n",
       "      <td>638400000</td>\n",
       "      <td>-40.0</td>\n",
       "      <td>1.4</td>\n",
       "      <td>681900000</td>\n",
       "    </tr>\n",
       "    <tr>\n",
       "      <th>1</th>\n",
       "      <td>1</td>\n",
       "      <td>1</td>\n",
       "      <td>-40.0</td>\n",
       "      <td>1.350</td>\n",
       "      <td>638400000</td>\n",
       "      <td>-35.0</td>\n",
       "      <td>1.4</td>\n",
       "      <td>676900000</td>\n",
       "    </tr>\n",
       "    <tr>\n",
       "      <th>2</th>\n",
       "      <td>2</td>\n",
       "      <td>2</td>\n",
       "      <td>-40.0</td>\n",
       "      <td>1.350</td>\n",
       "      <td>638400000</td>\n",
       "      <td>-30.0</td>\n",
       "      <td>1.4</td>\n",
       "      <td>672300000</td>\n",
       "    </tr>\n",
       "    <tr>\n",
       "      <th>3</th>\n",
       "      <td>3</td>\n",
       "      <td>3</td>\n",
       "      <td>-40.0</td>\n",
       "      <td>1.350</td>\n",
       "      <td>638400000</td>\n",
       "      <td>-25.0</td>\n",
       "      <td>1.4</td>\n",
       "      <td>667900000</td>\n",
       "    </tr>\n",
       "    <tr>\n",
       "      <th>4</th>\n",
       "      <td>4</td>\n",
       "      <td>4</td>\n",
       "      <td>-40.0</td>\n",
       "      <td>1.350</td>\n",
       "      <td>638400000</td>\n",
       "      <td>-20.0</td>\n",
       "      <td>1.4</td>\n",
       "      <td>663200000</td>\n",
       "    </tr>\n",
       "    <tr>\n",
       "      <th>...</th>\n",
       "      <td>...</td>\n",
       "      <td>...</td>\n",
       "      <td>...</td>\n",
       "      <td>...</td>\n",
       "      <td>...</td>\n",
       "      <td>...</td>\n",
       "      <td>...</td>\n",
       "      <td>...</td>\n",
       "    </tr>\n",
       "    <tr>\n",
       "      <th>1393723</th>\n",
       "      <td>124435</td>\n",
       "      <td>2069</td>\n",
       "      <td>125.0</td>\n",
       "      <td>1.630</td>\n",
       "      <td>1050000000</td>\n",
       "      <td>25.0</td>\n",
       "      <td>1.5</td>\n",
       "      <td>1028000000</td>\n",
       "    </tr>\n",
       "    <tr>\n",
       "      <th>1393724</th>\n",
       "      <td>124436</td>\n",
       "      <td>2070</td>\n",
       "      <td>125.0</td>\n",
       "      <td>1.635</td>\n",
       "      <td>1045000000</td>\n",
       "      <td>25.0</td>\n",
       "      <td>1.5</td>\n",
       "      <td>1028000000</td>\n",
       "    </tr>\n",
       "    <tr>\n",
       "      <th>1393725</th>\n",
       "      <td>124437</td>\n",
       "      <td>2071</td>\n",
       "      <td>125.0</td>\n",
       "      <td>1.640</td>\n",
       "      <td>1041000000</td>\n",
       "      <td>25.0</td>\n",
       "      <td>1.5</td>\n",
       "      <td>1028000000</td>\n",
       "    </tr>\n",
       "    <tr>\n",
       "      <th>1393726</th>\n",
       "      <td>124438</td>\n",
       "      <td>2072</td>\n",
       "      <td>125.0</td>\n",
       "      <td>1.645</td>\n",
       "      <td>1036000000</td>\n",
       "      <td>25.0</td>\n",
       "      <td>1.5</td>\n",
       "      <td>1028000000</td>\n",
       "    </tr>\n",
       "    <tr>\n",
       "      <th>1393727</th>\n",
       "      <td>124439</td>\n",
       "      <td>2073</td>\n",
       "      <td>125.0</td>\n",
       "      <td>1.650</td>\n",
       "      <td>1031000000</td>\n",
       "      <td>25.0</td>\n",
       "      <td>1.5</td>\n",
       "      <td>1028000000</td>\n",
       "    </tr>\n",
       "  </tbody>\n",
       "</table>\n",
       "<p>1393728 rows × 8 columns</p>\n",
       "</div>"
      ],
      "text/plain": [
       "          index  Unnamed: 0      t      v        freq     T    V          p'\n",
       "0             0           0  -40.0  1.350   638400000 -40.0  1.4   681900000\n",
       "1             1           1  -40.0  1.350   638400000 -35.0  1.4   676900000\n",
       "2             2           2  -40.0  1.350   638400000 -30.0  1.4   672300000\n",
       "3             3           3  -40.0  1.350   638400000 -25.0  1.4   667900000\n",
       "4             4           4  -40.0  1.350   638400000 -20.0  1.4   663200000\n",
       "...         ...         ...    ...    ...         ...   ...  ...         ...\n",
       "1393723  124435        2069  125.0  1.630  1050000000  25.0  1.5  1028000000\n",
       "1393724  124436        2070  125.0  1.635  1045000000  25.0  1.5  1028000000\n",
       "1393725  124437        2071  125.0  1.640  1041000000  25.0  1.5  1028000000\n",
       "1393726  124438        2072  125.0  1.645  1036000000  25.0  1.5  1028000000\n",
       "1393727  124439        2073  125.0  1.650  1031000000  25.0  1.5  1028000000\n",
       "\n",
       "[1393728 rows x 8 columns]"
      ]
     },
     "execution_count": 6,
     "metadata": {},
     "output_type": "execute_result"
    }
   ],
   "source": [
    "df = df_ori.copy()\n",
    "#mc = mc_ori.copy()\n",
    "#mc = mc.rename(columns={'MC': 'P'})\n",
    "enc = OrdinalEncoder()\n",
    "#enc.fit(df[['P']])\n",
    "#df[['P']] = enc.transform(df[['P']])\n",
    "#df[['P']] = df[['P']] + 31\n",
    "#df = df.append(mc)\n",
    "df.reset_index(inplace=True)\n",
    "df"
   ]
  },
  {
   "cell_type": "code",
   "execution_count": 7,
   "id": "2288f4d3",
   "metadata": {},
   "outputs": [
    {
     "data": {
      "text/plain": [
       "Index(['index', 'Unnamed: 0', 't', 'v', 'freq', 'T', 'V', 'p''], dtype='object')"
      ]
     },
     "execution_count": 7,
     "metadata": {},
     "output_type": "execute_result"
    }
   ],
   "source": [
    "df.columns[:]"
   ]
  },
  {
   "cell_type": "code",
   "execution_count": 8,
   "id": "c45379d4",
   "metadata": {},
   "outputs": [],
   "source": [
    "# # Get dummies for the specified columns\n",
    "# df_dummies = pd.get_dummies(df[['t','v','T','V']])\n",
    "\n",
    "# # Normalize the specified columns\n",
    "# scaler = MinMaxScaler()\n",
    "# df_norm = pd.DataFrame(scaler.fit_transform(df[['freq','p\\'']]), columns=['freq','p\\''])\n",
    "\n",
    "# # Concatenate the dummy dataframe and the normalized dataframe\n",
    "# df_processed = pd.concat([df_dummies, df_norm], axis=1)\n",
    "# df = df_processed"
   ]
  },
  {
   "cell_type": "code",
   "execution_count": 9,
   "id": "4fa636bc",
   "metadata": {},
   "outputs": [],
   "source": [
    "# Get dummies for the specified columns\n",
    "df_other = df[['t','v','T','V']]\n",
    "\n",
    "# Normalize the specified columns\n",
    "scaler = MinMaxScaler()\n",
    "df_norm = pd.DataFrame(scaler.fit_transform(df[['freq','p\\'']]), columns=['freq','p\\''])\n",
    "\n",
    "# Concatenate the dummy dataframe and the normalized dataframe\n",
    "df_processed = pd.concat([df_other, df_norm], axis=1)\n",
    "df = df_processed"
   ]
  },
  {
   "cell_type": "code",
   "execution_count": 10,
   "id": "60aa3dbd",
   "metadata": {},
   "outputs": [
    {
     "data": {
      "text/html": [
       "<div>\n",
       "<style scoped>\n",
       "    .dataframe tbody tr th:only-of-type {\n",
       "        vertical-align: middle;\n",
       "    }\n",
       "\n",
       "    .dataframe tbody tr th {\n",
       "        vertical-align: top;\n",
       "    }\n",
       "\n",
       "    .dataframe thead th {\n",
       "        text-align: right;\n",
       "    }\n",
       "</style>\n",
       "<table border=\"1\" class=\"dataframe\">\n",
       "  <thead>\n",
       "    <tr style=\"text-align: right;\">\n",
       "      <th></th>\n",
       "      <th>t</th>\n",
       "      <th>v</th>\n",
       "      <th>T</th>\n",
       "      <th>V</th>\n",
       "      <th>freq</th>\n",
       "      <th>p'</th>\n",
       "    </tr>\n",
       "  </thead>\n",
       "  <tbody>\n",
       "    <tr>\n",
       "      <th>0</th>\n",
       "      <td>-40.0</td>\n",
       "      <td>1.350</td>\n",
       "      <td>-40.0</td>\n",
       "      <td>1.4</td>\n",
       "      <td>0.118305</td>\n",
       "      <td>0.145873</td>\n",
       "    </tr>\n",
       "    <tr>\n",
       "      <th>1</th>\n",
       "      <td>-40.0</td>\n",
       "      <td>1.350</td>\n",
       "      <td>-35.0</td>\n",
       "      <td>1.4</td>\n",
       "      <td>0.118305</td>\n",
       "      <td>0.139909</td>\n",
       "    </tr>\n",
       "    <tr>\n",
       "      <th>2</th>\n",
       "      <td>-40.0</td>\n",
       "      <td>1.350</td>\n",
       "      <td>-30.0</td>\n",
       "      <td>1.4</td>\n",
       "      <td>0.118305</td>\n",
       "      <td>0.134423</td>\n",
       "    </tr>\n",
       "    <tr>\n",
       "      <th>3</th>\n",
       "      <td>-40.0</td>\n",
       "      <td>1.350</td>\n",
       "      <td>-25.0</td>\n",
       "      <td>1.4</td>\n",
       "      <td>0.118305</td>\n",
       "      <td>0.129175</td>\n",
       "    </tr>\n",
       "    <tr>\n",
       "      <th>4</th>\n",
       "      <td>-40.0</td>\n",
       "      <td>1.350</td>\n",
       "      <td>-20.0</td>\n",
       "      <td>1.4</td>\n",
       "      <td>0.118305</td>\n",
       "      <td>0.123569</td>\n",
       "    </tr>\n",
       "    <tr>\n",
       "      <th>...</th>\n",
       "      <td>...</td>\n",
       "      <td>...</td>\n",
       "      <td>...</td>\n",
       "      <td>...</td>\n",
       "      <td>...</td>\n",
       "      <td>...</td>\n",
       "    </tr>\n",
       "    <tr>\n",
       "      <th>1393723</th>\n",
       "      <td>125.0</td>\n",
       "      <td>1.630</td>\n",
       "      <td>25.0</td>\n",
       "      <td>1.5</td>\n",
       "      <td>0.565454</td>\n",
       "      <td>0.558683</td>\n",
       "    </tr>\n",
       "    <tr>\n",
       "      <th>1393724</th>\n",
       "      <td>125.0</td>\n",
       "      <td>1.635</td>\n",
       "      <td>25.0</td>\n",
       "      <td>1.5</td>\n",
       "      <td>0.560022</td>\n",
       "      <td>0.558683</td>\n",
       "    </tr>\n",
       "    <tr>\n",
       "      <th>1393725</th>\n",
       "      <td>125.0</td>\n",
       "      <td>1.640</td>\n",
       "      <td>25.0</td>\n",
       "      <td>1.5</td>\n",
       "      <td>0.555676</td>\n",
       "      <td>0.558683</td>\n",
       "    </tr>\n",
       "    <tr>\n",
       "      <th>1393726</th>\n",
       "      <td>125.0</td>\n",
       "      <td>1.645</td>\n",
       "      <td>25.0</td>\n",
       "      <td>1.5</td>\n",
       "      <td>0.550244</td>\n",
       "      <td>0.558683</td>\n",
       "    </tr>\n",
       "    <tr>\n",
       "      <th>1393727</th>\n",
       "      <td>125.0</td>\n",
       "      <td>1.650</td>\n",
       "      <td>25.0</td>\n",
       "      <td>1.5</td>\n",
       "      <td>0.544813</td>\n",
       "      <td>0.558683</td>\n",
       "    </tr>\n",
       "  </tbody>\n",
       "</table>\n",
       "<p>1393728 rows × 6 columns</p>\n",
       "</div>"
      ],
      "text/plain": [
       "             t      v     T    V      freq        p'\n",
       "0        -40.0  1.350 -40.0  1.4  0.118305  0.145873\n",
       "1        -40.0  1.350 -35.0  1.4  0.118305  0.139909\n",
       "2        -40.0  1.350 -30.0  1.4  0.118305  0.134423\n",
       "3        -40.0  1.350 -25.0  1.4  0.118305  0.129175\n",
       "4        -40.0  1.350 -20.0  1.4  0.118305  0.123569\n",
       "...        ...    ...   ...  ...       ...       ...\n",
       "1393723  125.0  1.630  25.0  1.5  0.565454  0.558683\n",
       "1393724  125.0  1.635  25.0  1.5  0.560022  0.558683\n",
       "1393725  125.0  1.640  25.0  1.5  0.555676  0.558683\n",
       "1393726  125.0  1.645  25.0  1.5  0.550244  0.558683\n",
       "1393727  125.0  1.650  25.0  1.5  0.544813  0.558683\n",
       "\n",
       "[1393728 rows x 6 columns]"
      ]
     },
     "execution_count": 10,
     "metadata": {},
     "output_type": "execute_result"
    }
   ],
   "source": [
    "df"
   ]
  },
  {
   "cell_type": "code",
   "execution_count": 11,
   "id": "a6e763f4",
   "metadata": {},
   "outputs": [
    {
     "name": "stdout",
     "output_type": "stream",
     "text": [
      "(975609, 5)\n",
      "(418119, 5)\n",
      "(975609, 1)\n",
      "(418119, 1)\n"
     ]
    }
   ],
   "source": [
    "# Split\n",
    "\n",
    "# X = comb[['code', 'N', 'T', 'N_c', 'T_c', 'V_c']].copy()\n",
    "X = df[['t', 'v', \"p'\", 'T', 'V']].copy()\n",
    "\n",
    "# y = comb[['V']].copy()\n",
    "y = df[['freq']].copy()\n",
    "\n",
    "X_train, X_test, y_train, y_test = train_test_split(X, y, test_size=0.30, random_state=22, stratify=df['V'], shuffle=True)\n",
    "\n",
    "train_data = pd.concat([X_train, y_train], axis=1)  \n",
    "test_data = pd.concat([X_test, y_test], axis=1)  \n",
    "test_data\n",
    "\n",
    "print(X_train.shape)\n",
    "print(X_test.shape)\n",
    "print(y_train.shape)\n",
    "print(y_test.shape)"
   ]
  },
  {
   "cell_type": "code",
   "execution_count": 12,
   "id": "f754cfac",
   "metadata": {},
   "outputs": [
    {
     "data": {
      "text/html": [
       "<div>\n",
       "<style scoped>\n",
       "    .dataframe tbody tr th:only-of-type {\n",
       "        vertical-align: middle;\n",
       "    }\n",
       "\n",
       "    .dataframe tbody tr th {\n",
       "        vertical-align: top;\n",
       "    }\n",
       "\n",
       "    .dataframe thead th {\n",
       "        text-align: right;\n",
       "    }\n",
       "</style>\n",
       "<table border=\"1\" class=\"dataframe\">\n",
       "  <thead>\n",
       "    <tr style=\"text-align: right;\">\n",
       "      <th></th>\n",
       "      <th>freq</th>\n",
       "    </tr>\n",
       "  </thead>\n",
       "  <tbody>\n",
       "    <tr>\n",
       "      <th>1173499</th>\n",
       "      <td>0.445845</td>\n",
       "    </tr>\n",
       "    <tr>\n",
       "      <th>166802</th>\n",
       "      <td>0.314503</td>\n",
       "    </tr>\n",
       "    <tr>\n",
       "      <th>1324682</th>\n",
       "      <td>0.596958</td>\n",
       "    </tr>\n",
       "    <tr>\n",
       "      <th>143852</th>\n",
       "      <td>0.215426</td>\n",
       "    </tr>\n",
       "    <tr>\n",
       "      <th>1024900</th>\n",
       "      <td>0.219555</td>\n",
       "    </tr>\n",
       "    <tr>\n",
       "      <th>...</th>\n",
       "      <td>...</td>\n",
       "    </tr>\n",
       "    <tr>\n",
       "      <th>419911</th>\n",
       "      <td>0.982618</td>\n",
       "    </tr>\n",
       "    <tr>\n",
       "      <th>1141956</th>\n",
       "      <td>0.417490</td>\n",
       "    </tr>\n",
       "    <tr>\n",
       "      <th>556564</th>\n",
       "      <td>0.433895</td>\n",
       "    </tr>\n",
       "    <tr>\n",
       "      <th>606765</th>\n",
       "      <td>0.415644</td>\n",
       "    </tr>\n",
       "    <tr>\n",
       "      <th>1252498</th>\n",
       "      <td>0.598045</td>\n",
       "    </tr>\n",
       "  </tbody>\n",
       "</table>\n",
       "<p>975609 rows × 1 columns</p>\n",
       "</div>"
      ],
      "text/plain": [
       "             freq\n",
       "1173499  0.445845\n",
       "166802   0.314503\n",
       "1324682  0.596958\n",
       "143852   0.215426\n",
       "1024900  0.219555\n",
       "...           ...\n",
       "419911   0.982618\n",
       "1141956  0.417490\n",
       "556564   0.433895\n",
       "606765   0.415644\n",
       "1252498  0.598045\n",
       "\n",
       "[975609 rows x 1 columns]"
      ]
     },
     "execution_count": 12,
     "metadata": {},
     "output_type": "execute_result"
    }
   ],
   "source": [
    "y_train"
   ]
  },
  {
   "cell_type": "markdown",
   "id": "ff77cc66",
   "metadata": {},
   "source": [
    "# Model Training and Validation"
   ]
  },
  {
   "cell_type": "markdown",
   "id": "d1536029",
   "metadata": {},
   "source": [
    "## XGBoost"
   ]
  },
  {
   "cell_type": "code",
   "execution_count": 13,
   "id": "ffa5fd9b",
   "metadata": {},
   "outputs": [
    {
     "name": "stdout",
     "output_type": "stream",
     "text": [
      "[0]\tvalidation_0-rmse:0.14118\n"
     ]
    },
    {
     "name": "stderr",
     "output_type": "stream",
     "text": [
      "c:\\Users\\ZengF\\AppData\\Local\\anaconda3\\Lib\\site-packages\\xgboost\\sklearn.py:889: UserWarning: `eval_metric` in `fit` method is deprecated for better compatibility with scikit-learn, use `eval_metric` in constructor or`set_params` instead.\n",
      "  warnings.warn(\n",
      "c:\\Users\\ZengF\\AppData\\Local\\anaconda3\\Lib\\site-packages\\xgboost\\sklearn.py:889: UserWarning: `early_stopping_rounds` in `fit` method is deprecated for better compatibility with scikit-learn, use `early_stopping_rounds` in constructor or`set_params` instead.\n",
      "  warnings.warn(\n"
     ]
    },
    {
     "name": "stdout",
     "output_type": "stream",
     "text": [
      "[1]\tvalidation_0-rmse:0.10022\n",
      "[2]\tvalidation_0-rmse:0.07281\n",
      "[3]\tvalidation_0-rmse:0.05462\n",
      "[4]\tvalidation_0-rmse:0.04304\n",
      "[5]\tvalidation_0-rmse:0.03548\n",
      "[6]\tvalidation_0-rmse:0.03049\n",
      "[7]\tvalidation_0-rmse:0.02759\n",
      "[8]\tvalidation_0-rmse:0.02580\n",
      "[9]\tvalidation_0-rmse:0.02461\n",
      "[10]\tvalidation_0-rmse:0.02385\n",
      "[11]\tvalidation_0-rmse:0.02326\n",
      "[12]\tvalidation_0-rmse:0.02268\n",
      "[13]\tvalidation_0-rmse:0.02236\n",
      "No overfitting detected. (RMSE Difference: 0.000)\n",
      "Best parameters: {'regressor__learning_rate': 0.3227277500759471, 'regressor__max_depth': 17, 'regressor__n_estimators': 14, 'regressor__reg_alpha': 48.2972277473302, 'regressor__reg_lambda': 65.13339438364096}\n",
      "Training RMSE: 0.074, Validation RMSE: 0.074\n",
      "Mean RMSE for XGBoost: 0.023077427007733287\n"
     ]
    }
   ],
   "source": [
    "# random\n",
    "xgb_params = {\n",
    "    'regressor__n_estimators': randint(10, 50), \n",
    "    'regressor__learning_rate': uniform(0.1, 1), \n",
    "    'regressor__max_depth': randint(1, 20),\n",
    "    'regressor__reg_lambda': uniform(20, 100),\n",
    "    'regressor__reg_alpha': uniform(20, 100),\n",
    "}\n",
    "\n",
    "xgb_rcv = pipeall_random(XGBRegressor(random_state=22), X_train, y_train, xgb_params)\n",
    "print(\"Mean RMSE for XGBoost:\", abs(xgb_rcv.best_score_)) "
   ]
  },
  {
   "cell_type": "code",
   "execution_count": 14,
   "id": "f47713b9",
   "metadata": {},
   "outputs": [
    {
     "name": "stdout",
     "output_type": "stream",
     "text": [
      "mse: 0.0005000044746315879\n",
      "rmse: 0.02236077983057809\n",
      "mae: 0.013451156507782145\n",
      "mape: 12022946713.50145\n",
      "r2: 0.9877704977989197\n"
     ]
    }
   ],
   "source": [
    "# XGBoost Model\n",
    "xgb_best_model = xgb_rcv.best_estimator_\n",
    "xgb_pred = xgb_best_model.predict(X_train)\n",
    "\n",
    "# Evaluate XGBoost Model\n",
    "print(\"mse:\", mean_squared_error(y_train, xgb_pred))\n",
    "print(\"rmse:\", mean_squared_error(y_train, xgb_pred, squared=False))\n",
    "print(\"mae:\", mean_absolute_error(y_train, xgb_pred))\n",
    "print(\"mape:\", mean_absolute_percentage_error(y_train, xgb_pred))\n",
    "print(\"r2:\", r2_score(y_train, xgb_pred))"
   ]
  },
  {
   "cell_type": "markdown",
   "id": "fd374631",
   "metadata": {},
   "source": [
    "## LightGBM"
   ]
  },
  {
   "cell_type": "code",
   "execution_count": 15,
   "id": "b18931e1",
   "metadata": {},
   "outputs": [],
   "source": [
    "import lightgbm as lgb"
   ]
  },
  {
   "cell_type": "code",
   "execution_count": 17,
   "id": "1db3e2e6",
   "metadata": {},
   "outputs": [
    {
     "name": "stdout",
     "output_type": "stream",
     "text": [
      "[LightGBM] [Info] Auto-choosing row-wise multi-threading, the overhead of testing was 0.006497 seconds.\n",
      "You can set `force_row_wise=true` to remove the overhead.\n",
      "And if memory is not enough, you can set `force_col_wise=true`.\n",
      "[LightGBM] [Info] Total Bins 388\n",
      "[LightGBM] [Info] Number of data points in the train set: 975609, number of used features: 5\n",
      "[LightGBM] [Info] Start training from score 0.383244\n",
      "No overfitting detected. (RMSE Difference: -0.000)\n",
      "Best parameters: {'regressor__learning_rate': 0.33674937800708316, 'regressor__min_child_weight': 6, 'regressor__n_estimators': 39, 'regressor__num_leaves': 15, 'regressor__reg_alpha': 53.61077911630495, 'regressor__reg_lambda': 65.50556176716094}\n",
      "Training RMSE: 0.038, Validation RMSE: 0.038\n",
      "Mean RMSE for LightGBM: 0.024386484399693018\n"
     ]
    }
   ],
   "source": [
    "# random search\n",
    "lgb_params = {\n",
    "    'regressor__n_estimators': randint(10, 50),\n",
    "    'regressor__learning_rate': uniform(0.1, 1), \n",
    "    'regressor__num_leaves': randint(1, 20),\n",
    "    'regressor__reg_lambda': uniform(20, 100),\n",
    "    'regressor__reg_alpha': uniform(20, 100),\n",
    "    'regressor__min_child_weight': randint(1, 20)\n",
    "}\n",
    "\n",
    "lgb_rcv = pipeall_random(lgb.LGBMRegressor(objective='regression', metric='rmse', random_state=22), X_train, y_train, lgb_params)\n",
    "print(\"Mean RMSE for LightGBM:\", abs(lgb_rcv.best_score_)) "
   ]
  },
  {
   "cell_type": "code",
   "execution_count": 18,
   "id": "183b1f30",
   "metadata": {},
   "outputs": [
    {
     "name": "stdout",
     "output_type": "stream",
     "text": [
      "mse: 0.0005907387320365773\n",
      "rmse: 0.02430511740429528\n",
      "mae: 0.01566496461594307\n",
      "mape: 6479369688.954944\n",
      "r2: 0.9855512765206077\n"
     ]
    }
   ],
   "source": [
    "# LightGBM Model\n",
    "lgb_best_model = lgb_rcv.best_estimator_\n",
    "lgb_pred = lgb_best_model.predict(X_train)\n",
    "\n",
    "# Evaluate LightGBM Model\n",
    "print(\"mse:\", mean_squared_error(y_train, lgb_pred))\n",
    "print(\"rmse:\", mean_squared_error(y_train, lgb_pred, squared=False))\n",
    "print(\"mae:\", mean_absolute_error(y_train, lgb_pred))\n",
    "print(\"mape:\", mean_absolute_percentage_error(y_train, lgb_pred))\n",
    "print(\"r2:\", r2_score(y_train, lgb_pred))"
   ]
  },
  {
   "cell_type": "markdown",
   "id": "553e1c78",
   "metadata": {},
   "source": [
    "## Random Forest"
   ]
  },
  {
   "cell_type": "code",
   "execution_count": 19,
   "id": "c704fc12",
   "metadata": {},
   "outputs": [
    {
     "name": "stdout",
     "output_type": "stream",
     "text": [
      "No overfitting detected. (RMSE Difference: -0.000)\n",
      "Best parameters: {'regressor__max_depth': 6, 'regressor__max_features': 'sqrt', 'regressor__min_samples_leaf': 3, 'regressor__min_samples_split': 6, 'regressor__n_estimators': 75}\n",
      "Training RMSE: 0.125, Validation RMSE: 0.125\n",
      "Mean RMSE for RF: 0.055030494038781776\n"
     ]
    }
   ],
   "source": [
    "# random\n",
    "rf_params = {\n",
    "    'regressor__max_depth': randint(2, 8),\n",
    "    'regressor__min_samples_split': randint(2, 20),\n",
    "    'regressor__min_samples_leaf': randint(1, 20), \n",
    "    'regressor__n_estimators': randint(50, 100),\n",
    "    'regressor__max_features': ['sqrt'] # for early stopping\n",
    "}\n",
    "\n",
    "# Perform grid search cross-validation for RF\n",
    "rf_rcv = pipeall_random(RandomForestRegressor(random_state=22), X_train, y_train, rf_params)\n",
    "print(\"Mean RMSE for RF:\", abs(rf_rcv.best_score_))\n"
   ]
  },
  {
   "cell_type": "code",
   "execution_count": 20,
   "id": "66dea13b",
   "metadata": {},
   "outputs": [
    {
     "name": "stdout",
     "output_type": "stream",
     "text": [
      "mse: 0.003003239622210942\n",
      "rmse: 0.05480182134027064\n",
      "mae: 0.041658138989683964\n",
      "mape: 31216746272.37955\n",
      "r2: 0.9265445509318767\n"
     ]
    }
   ],
   "source": [
    "# Fit RF with best parameters\n",
    "rf_best_model = rf_rcv.best_estimator_\n",
    "rf_pred = rf_best_model.predict(X_train)\n",
    "\n",
    "# Evaluate Random Forest Model\n",
    "print(\"mse:\", mean_squared_error(y_train, rf_pred))\n",
    "print(\"rmse:\", mean_squared_error(y_train, rf_pred, squared=False))\n",
    "print(\"mae:\", mean_absolute_error(y_train, rf_pred))\n",
    "print(\"mape:\", mean_absolute_percentage_error(y_train, rf_pred))\n",
    "print(\"r2:\", r2_score(y_train, rf_pred))"
   ]
  },
  {
   "cell_type": "markdown",
   "id": "e75e5890",
   "metadata": {},
   "source": [
    "## Poly LR"
   ]
  },
  {
   "cell_type": "code",
   "execution_count": 21,
   "id": "04e66f9b",
   "metadata": {},
   "outputs": [],
   "source": [
    "# # test vs train error\n",
    "# tests = []\n",
    "# trains = []\n",
    "# lst = [i for i in range(1, 4, 1)]\n",
    "# for i in lst:\n",
    "#   polynomial_features = PolynomialFeatures(degree=i, include_bias=False)\n",
    "#   pipeline = Pipeline([(\"polynomial_features\", polynomial_features),\n",
    "#                           (\"scaling\", StandardScaler()),\n",
    "#                               (\"linear_regression\", LinearRegression())])\n",
    "#   wrapped = TransformedTargetRegressor(regressor=pipeline, transformer=StandardScaler())\n",
    "#   wrapped.fit(X_train, y_train)\n",
    "#   plr_pred = wrapped.predict(X_test)\n",
    "#   rmse = sqrt(mean_squared_error(y_test, plr_pred))\n",
    "#   tests.append(rmse)\n",
    "\n",
    "#   pred3 = wrapped.predict(X_train)\n",
    "#   rmse3 = sqrt(mean_squared_error(y_train, pred3))\n",
    "#   trains.append(rmse3)\n",
    "\n",
    "# print(tests)\n",
    "# print(trains)\n",
    "\n",
    "# plt.style.use('seaborn')\n",
    "# plt.plot(lst, trains, label = 'Training error', marker='o')\n",
    "# plt.plot(lst, tests, label = 'Test error', marker='o')\n",
    "# plt.ylabel('RMSE', fontsize = 14)\n",
    "# plt.xlabel('Training set size', fontsize = 14)\n",
    "# plt.title('Learning curves for a polynomial regression model', fontsize = 18, y = 1.03)\n",
    "# plt.legend()\n",
    "# plt.ylim(0, 0.2)"
   ]
  },
  {
   "cell_type": "code",
   "execution_count": 22,
   "id": "a1fbf2fe",
   "metadata": {},
   "outputs": [],
   "source": [
    "# # Poly LR Cross Validation\n",
    "# for i in range(1,4, 1):\n",
    "#     polynomial_features = PolynomialFeatures(degree=i, include_bias=False)\n",
    "#     linear_regression = LinearRegression()\n",
    "#     pipeline = Pipeline([(\"polynomial_features\", polynomial_features),\n",
    "#                          (\"scaling\", StandardScaler()),\n",
    "#                             (\"model\", linear_regression)])\n",
    "#     wrapped = TransformedTargetRegressor(regressor=pipeline, transformer=StandardScaler())\n",
    "\n",
    "#     cv = KFold(n_splits=10, shuffle=True, random_state=22)\n",
    "#     scores = cross_val_score(wrapped, X, y, cv=cv, scoring='neg_root_mean_squared_error')\n",
    "    \n",
    "#     rmse_scores = absolute(scores)\n",
    "    \n",
    "#     cross_validation_score_mse = rmse_scores.mean()\n",
    "    \n",
    "#     print(\"RMSE by cross validation of polynomial degree {} regression: {}\".format(i, str(cross_validation_score_mse)))"
   ]
  },
  {
   "cell_type": "code",
   "execution_count": 23,
   "id": "d284cc72",
   "metadata": {},
   "outputs": [
    {
     "name": "stdout",
     "output_type": "stream",
     "text": [
      "Best parameters: {'regressor__model__alpha': 17.800932022121827}\n"
     ]
    }
   ],
   "source": [
    "plr_features = PolynomialFeatures(degree=3, include_bias=False)\n",
    "plr_param = {'regressor__model__alpha': uniform(10, 50)}\n",
    "plr_rcv = pipepoly(Ridge(), plr_features, X_train, y_train, plr_param)\n",
    "\n",
    "print(f\"Best parameters: {plr_rcv.best_params_}\")"
   ]
  },
  {
   "cell_type": "code",
   "execution_count": 24,
   "id": "423c8a72",
   "metadata": {},
   "outputs": [
    {
     "name": "stdout",
     "output_type": "stream",
     "text": [
      "mse: 0.0017356886453546885\n",
      "rmse: 0.041661596769143265\n",
      "mae: 0.021746956656336847\n",
      "mape: 7209090938.728448\n",
      "r2: 0.9575472473311635\n"
     ]
    }
   ],
   "source": [
    "plr_best_model = plr_rcv.best_estimator_\n",
    "plr_pred = plr_best_model.predict(X_train)\n",
    "\n",
    "print(\"mse:\", mean_squared_error(y_train, plr_pred))\n",
    "print(\"rmse:\", mean_squared_error(y_train, plr_pred, squared=False))\n",
    "print(\"mae:\", mean_absolute_error(y_train, plr_pred))\n",
    "print(\"mape:\", mean_absolute_percentage_error(y_train, plr_pred))\n",
    "print(\"r2:\", r2_score(y_train, plr_pred))"
   ]
  },
  {
   "cell_type": "code",
   "execution_count": 25,
   "id": "7f6c6978",
   "metadata": {},
   "outputs": [],
   "source": [
    "# plt.style.use('seaborn')\n",
    "# plt.scatter(y_train, plr_pred)\n",
    "# plt.xlabel('actual voltage')\n",
    "# plt.ylabel('predicted voltage')"
   ]
  },
  {
   "cell_type": "markdown",
   "id": "a109d8d0",
   "metadata": {},
   "source": [
    "## SVM"
   ]
  },
  {
   "cell_type": "code",
   "execution_count": 26,
   "id": "2de417e9",
   "metadata": {},
   "outputs": [],
   "source": [
    "# # grid search for SVR\n",
    "# svm_params = {\n",
    "#     'regressor__C': [1, 10],\n",
    "#     'regressor__kernel': ['rbf'],\n",
    "#     'regressor__gamma': [0.01, 0.1],\n",
    "# }\n",
    "\n",
    "# # Create SVR regressor\n",
    "# svr = SVR()\n",
    "\n",
    "# # Perform random search cross-validation for SVR\n",
    "# svr_rcv = pipeall_random(svr, X_train, y_train, svm_params)\n",
    "\n",
    "# # Print best parameters and mean RMSE for SVR\n",
    "# print(\"Mean RMSE for SVR:\", abs(svr_rcv.best_score_))"
   ]
  },
  {
   "cell_type": "code",
   "execution_count": 27,
   "id": "0ebd884c",
   "metadata": {},
   "outputs": [],
   "source": [
    "# # Fit SVR with best parameters\n",
    "# svr_best_model = svr_rcv.best_estimator_\n",
    "# svr_pred = svr_best_model.predict(X_train)\n",
    "\n",
    "# # Evaluate SVR model performance\n",
    "# print(\"mse:\", mean_squared_error(y_train, svr_pred))\n",
    "# print(\"rmse:\", mean_squared_error(y_train, svr_pred, squared=False))\n",
    "# print(\"mae:\", mean_absolute_error(y_train, svr_pred))\n",
    "# print(\"mape:\", mean_absolute_percentage_error(y_train, svr_pred))\n",
    "# print(\"r2:\", r2_score(y_train, svr_pred))"
   ]
  },
  {
   "cell_type": "markdown",
   "id": "dceb6e1d",
   "metadata": {},
   "source": [
    "## Models Comparison"
   ]
  },
  {
   "cell_type": "code",
   "execution_count": 28,
   "id": "3dce1f5f",
   "metadata": {},
   "outputs": [],
   "source": [
    "def get_num_params(model):\n",
    "    \"\"\"Gets the number of parameters in a model.\"\"\"\n",
    "    if isinstance(model, TransformedTargetRegressor):\n",
    "        model = model.regressor_\n",
    "    if isinstance(model, Pipeline):\n",
    "        # For Polynomial Regression, consider the polynomial degree\n",
    "        degree = model.named_steps['polynomial_features'].degree\n",
    "        num_features = model.named_steps['scaling'].n_features_in_\n",
    "        num_params = (degree + 1) * num_features  # Parameters in polynomial expansion + intercept\n",
    "    elif isinstance(model, (RandomForestRegressor, XGBRegressor)):\n",
    "        num_params = model.get_params()['n_estimators']  # Number of trees\n",
    "    elif isinstance(model, SVR):\n",
    "        num_params = 3  # C, gamma, and intercept\n",
    "    elif isinstance(model, lgb.LGBMRegressor):\n",
    "        # LightGBM\n",
    "        num_params = model.n_estimators  # Approximate the number of parameters by the number of trees\n",
    "    else:\n",
    "        num_params = len(model.coef_) + 1  # Coefficients + intercept for linear models\n",
    "\n",
    "    return num_params\n",
    "\n",
    "def calculate_aic_bic(y_true, y_pred, num_params, num_obs):\n",
    "  \"\"\"Calculates AIC and BIC\"\"\"\n",
    "  residuals = y_true - y_pred\n",
    "  sse = np.sum(residuals**2)  # Sum of squared errors\n",
    "  log_likelihood = -num_obs / 2 * np.log(2 * np.pi * sse / num_obs) - num_obs / 2\n",
    "  aic = -2 * log_likelihood + 2 * num_params\n",
    "  bic = -2 * log_likelihood + num_params * np.log(num_obs)\n",
    "  return aic, bic\n",
    "\n",
    "def evaluate_models(y_train, y_pred, models, model_name):\n",
    "    metrics = ['MSE', 'RMSE', 'MAE', 'MAPE', 'R2', 'AIC', 'BIC']\n",
    "    results = []\n",
    "\n",
    "    for model, pred_values in zip(models, y_pred):\n",
    "        mse = mean_squared_error(y_train, pred_values)\n",
    "        rmse = sqrt(mse)\n",
    "        mae = mean_absolute_error(y_train, pred_values)\n",
    "        mape = mean_absolute_percentage_error(y_train, pred_values)\n",
    "        r2 = r2_score(y_train, pred_values)\n",
    "\n",
    "        num_params = get_num_params(model)\n",
    "        aic, bic = calculate_aic_bic(y_train.values.ravel(), pred_values, num_params, len(y_train))\n",
    "\n",
    "        results.append([mse, rmse, mae, mape, r2, aic, bic])\n",
    "\n",
    "    # Create DataFrame\n",
    "    results_df = pd.DataFrame(results, index=model_name, columns=metrics)\n",
    "\n",
    "    # Print results\n",
    "    print(\"Models Comparison:\")\n",
    "\n",
    "    return results_df\n",
    "\n",
    "def plot_learning_curves(X, y, estimator, model_name, cv=5, n_jobs=None, train_sizes=np.linspace(0.1, 1.0, 10)):\n",
    "    train_sizes, train_scores, valid_scores = learning_curve(\n",
    "        estimator,\n",
    "        X, y.values.ravel(),\n",
    "        cv=cv,\n",
    "        n_jobs=n_jobs,\n",
    "        train_sizes=train_sizes,\n",
    "        scoring='neg_root_mean_squared_error'\n",
    "    )\n",
    "    \n",
    "    train_scores_mean = -train_scores.mean(axis=1)\n",
    "    valid_scores_mean = -valid_scores.mean(axis=1)\n",
    "    \n",
    "    plt.figure(figsize=(8, 6))\n",
    "    plt.plot(train_sizes, train_scores_mean, label='Training RMSE')\n",
    "    plt.plot(train_sizes, valid_scores_mean, label='Validation RMSE')\n",
    "    plt.xlabel('Training Examples')\n",
    "    plt.ylabel('RMSE')\n",
    "    plt.title(f'Learning Curves for {model_name}')\n",
    "    plt.legend()\n",
    "    plt.show()"
   ]
  },
  {
   "cell_type": "code",
   "execution_count": 29,
   "id": "a40b3caf",
   "metadata": {},
   "outputs": [
    {
     "name": "stdout",
     "output_type": "stream",
     "text": [
      "Models Comparison:\n"
     ]
    },
    {
     "data": {
      "text/html": [
       "<div>\n",
       "<style scoped>\n",
       "    .dataframe tbody tr th:only-of-type {\n",
       "        vertical-align: middle;\n",
       "    }\n",
       "\n",
       "    .dataframe tbody tr th {\n",
       "        vertical-align: top;\n",
       "    }\n",
       "\n",
       "    .dataframe thead th {\n",
       "        text-align: right;\n",
       "    }\n",
       "</style>\n",
       "<table border=\"1\" class=\"dataframe\">\n",
       "  <thead>\n",
       "    <tr style=\"text-align: right;\">\n",
       "      <th></th>\n",
       "      <th>MSE</th>\n",
       "      <th>RMSE</th>\n",
       "      <th>MAE</th>\n",
       "      <th>MAPE</th>\n",
       "      <th>R2</th>\n",
       "      <th>AIC</th>\n",
       "      <th>BIC</th>\n",
       "    </tr>\n",
       "  </thead>\n",
       "  <tbody>\n",
       "    <tr>\n",
       "      <th>Poly LR</th>\n",
       "      <td>0.001736</td>\n",
       "      <td>0.041662</td>\n",
       "      <td>0.021747</td>\n",
       "      <td>7.209091e+09</td>\n",
       "      <td>0.957547</td>\n",
       "      <td>-3.432215e+06</td>\n",
       "      <td>-3.429621e+06</td>\n",
       "    </tr>\n",
       "    <tr>\n",
       "      <th>Random Forest</th>\n",
       "      <td>0.003003</td>\n",
       "      <td>0.054802</td>\n",
       "      <td>0.041658</td>\n",
       "      <td>3.121675e+10</td>\n",
       "      <td>0.926545</td>\n",
       "      <td>-2.897591e+06</td>\n",
       "      <td>-2.896706e+06</td>\n",
       "    </tr>\n",
       "    <tr>\n",
       "      <th>XGBoost</th>\n",
       "      <td>0.000500</td>\n",
       "      <td>0.022361</td>\n",
       "      <td>0.013451</td>\n",
       "      <td>1.202295e+10</td>\n",
       "      <td>0.987770</td>\n",
       "      <td>-4.646814e+06</td>\n",
       "      <td>-4.646649e+06</td>\n",
       "    </tr>\n",
       "    <tr>\n",
       "      <th>LightGBM</th>\n",
       "      <td>0.000591</td>\n",
       "      <td>0.024305</td>\n",
       "      <td>0.015665</td>\n",
       "      <td>6.479370e+09</td>\n",
       "      <td>0.985551</td>\n",
       "      <td>-4.484074e+06</td>\n",
       "      <td>-4.483614e+06</td>\n",
       "    </tr>\n",
       "  </tbody>\n",
       "</table>\n",
       "</div>"
      ],
      "text/plain": [
       "                    MSE      RMSE       MAE          MAPE        R2  \\\n",
       "Poly LR        0.001736  0.041662  0.021747  7.209091e+09  0.957547   \n",
       "Random Forest  0.003003  0.054802  0.041658  3.121675e+10  0.926545   \n",
       "XGBoost        0.000500  0.022361  0.013451  1.202295e+10  0.987770   \n",
       "LightGBM       0.000591  0.024305  0.015665  6.479370e+09  0.985551   \n",
       "\n",
       "                        AIC           BIC  \n",
       "Poly LR       -3.432215e+06 -3.429621e+06  \n",
       "Random Forest -2.897591e+06 -2.896706e+06  \n",
       "XGBoost       -4.646814e+06 -4.646649e+06  \n",
       "LightGBM      -4.484074e+06 -4.483614e+06  "
      ]
     },
     "execution_count": 29,
     "metadata": {},
     "output_type": "execute_result"
    }
   ],
   "source": [
    "y_pred = [plr_pred, rf_pred, xgb_pred, lgb_pred]\n",
    "models = [plr_best_model, rf_best_model, xgb_best_model, lgb_best_model]\n",
    "model_name = ['Poly LR', 'Random Forest', 'XGBoost', 'LightGBM']\n",
    "\n",
    "evaluate_models(y_train, y_pred, models, model_name)\n",
    "\n",
    "# y_pred = [plr_pred, rf_pred, xgb_pred, svr_pred, lgb_pred]\n",
    "# models = [plr_best_model, rf_best_model, xgb_best_model, svr_best_model, lgb_best_model]\n",
    "# model_name = ['Poly LR', 'Random Forest', 'XGBoost', 'SVM', 'LightGBM']"
   ]
  },
  {
   "cell_type": "code",
   "execution_count": 30,
   "id": "5602f536",
   "metadata": {},
   "outputs": [],
   "source": [
    "# for model, name in zip(models, model_name):\n",
    "#plot_learning_curves(X_train, y_train, model, name)"
   ]
  },
  {
   "cell_type": "markdown",
   "id": "50bdc6ce",
   "metadata": {},
   "source": [
    "# Model Testing"
   ]
  },
  {
   "cell_type": "code",
   "execution_count": 31,
   "id": "86f842a9",
   "metadata": {},
   "outputs": [],
   "source": [
    "def predict_targets(X, models):\n",
    "    y_pred = []\n",
    "    \n",
    "    for model in models:\n",
    "        predictions = model.predict(X)\n",
    "        y_pred.append(predictions)\n",
    "    \n",
    "    return y_pred"
   ]
  },
  {
   "cell_type": "code",
   "execution_count": 32,
   "id": "c2e24b71",
   "metadata": {},
   "outputs": [
    {
     "name": "stdout",
     "output_type": "stream",
     "text": [
      "Models Comparison:\n"
     ]
    },
    {
     "data": {
      "text/html": [
       "<div>\n",
       "<style scoped>\n",
       "    .dataframe tbody tr th:only-of-type {\n",
       "        vertical-align: middle;\n",
       "    }\n",
       "\n",
       "    .dataframe tbody tr th {\n",
       "        vertical-align: top;\n",
       "    }\n",
       "\n",
       "    .dataframe thead th {\n",
       "        text-align: right;\n",
       "    }\n",
       "</style>\n",
       "<table border=\"1\" class=\"dataframe\">\n",
       "  <thead>\n",
       "    <tr style=\"text-align: right;\">\n",
       "      <th></th>\n",
       "      <th>MSE</th>\n",
       "      <th>RMSE</th>\n",
       "      <th>MAE</th>\n",
       "      <th>MAPE</th>\n",
       "      <th>R2</th>\n",
       "      <th>AIC</th>\n",
       "      <th>BIC</th>\n",
       "    </tr>\n",
       "  </thead>\n",
       "  <tbody>\n",
       "    <tr>\n",
       "      <th>Poly LR</th>\n",
       "      <td>0.001733</td>\n",
       "      <td>0.041627</td>\n",
       "      <td>0.021714</td>\n",
       "      <td>6.770648e+09</td>\n",
       "      <td>0.957678</td>\n",
       "      <td>-1.471392e+06</td>\n",
       "      <td>-1.468985e+06</td>\n",
       "    </tr>\n",
       "    <tr>\n",
       "      <th>Random Forest</th>\n",
       "      <td>0.003001</td>\n",
       "      <td>0.054781</td>\n",
       "      <td>0.041637</td>\n",
       "      <td>2.982551e+10</td>\n",
       "      <td>0.926705</td>\n",
       "      <td>-1.242057e+06</td>\n",
       "      <td>-1.241236e+06</td>\n",
       "    </tr>\n",
       "    <tr>\n",
       "      <th>XGBoost</th>\n",
       "      <td>0.000504</td>\n",
       "      <td>0.022451</td>\n",
       "      <td>0.013471</td>\n",
       "      <td>1.125584e+10</td>\n",
       "      <td>0.987689</td>\n",
       "      <td>-1.988098e+06</td>\n",
       "      <td>-1.987945e+06</td>\n",
       "    </tr>\n",
       "    <tr>\n",
       "      <th>LightGBM</th>\n",
       "      <td>0.000592</td>\n",
       "      <td>0.024336</td>\n",
       "      <td>0.015683</td>\n",
       "      <td>6.124743e+09</td>\n",
       "      <td>0.985535</td>\n",
       "      <td>-1.920635e+06</td>\n",
       "      <td>-1.920209e+06</td>\n",
       "    </tr>\n",
       "  </tbody>\n",
       "</table>\n",
       "</div>"
      ],
      "text/plain": [
       "                    MSE      RMSE       MAE          MAPE        R2  \\\n",
       "Poly LR        0.001733  0.041627  0.021714  6.770648e+09  0.957678   \n",
       "Random Forest  0.003001  0.054781  0.041637  2.982551e+10  0.926705   \n",
       "XGBoost        0.000504  0.022451  0.013471  1.125584e+10  0.987689   \n",
       "LightGBM       0.000592  0.024336  0.015683  6.124743e+09  0.985535   \n",
       "\n",
       "                        AIC           BIC  \n",
       "Poly LR       -1.471392e+06 -1.468985e+06  \n",
       "Random Forest -1.242057e+06 -1.241236e+06  \n",
       "XGBoost       -1.988098e+06 -1.987945e+06  \n",
       "LightGBM      -1.920635e+06 -1.920209e+06  "
      ]
     },
     "execution_count": 32,
     "metadata": {},
     "output_type": "execute_result"
    }
   ],
   "source": [
    "evaluate_models(y_test, predict_targets(X_test, models), models, model_name)"
   ]
  },
  {
   "cell_type": "markdown",
   "id": "093bc2e3",
   "metadata": {},
   "source": [
    "# Save Models"
   ]
  },
  {
   "cell_type": "code",
   "execution_count": 33,
   "id": "7134bbb5",
   "metadata": {},
   "outputs": [],
   "source": [
    "# import os\n",
    "# from datetime import datetime\n",
    "# from pickle import dump\n",
    "\n",
    "# timestamp = datetime.now().strftime(\"%Y-%m-%d_%H-%M-%S\")\n",
    "\n",
    "# model_dir = f\"models/{timestamp}\"\n",
    "# os.makedirs(model_dir, exist_ok=True)  \n",
    "\n",
    "# # save models\n",
    "# dump(wrapped, open(f\"{model_dir}/plr_TVC1.pkl\", 'wb'))  \n",
    "# dump(rf_best_model, open(f\"{model_dir}/rf_TVC1.pkl\", 'wb'))\n",
    "# dump(xgb_best_model, open(f\"{model_dir}/xgb_TVC1.pkl\", 'wb'))\n",
    "# dump(svr_gcv.best_estimator_, open(f\"{model_dir}/svr_TVC1.pkl\", 'wb'))"
   ]
  },
  {
   "cell_type": "markdown",
   "id": "c0113ea3",
   "metadata": {},
   "source": [
    "# Testing Script"
   ]
  },
  {
   "cell_type": "code",
   "execution_count": 34,
   "id": "048b8e4a",
   "metadata": {},
   "outputs": [],
   "source": [
    "pvt_ori = pd.read_csv('data/pvt_tall_v3.csv')\n",
    "pvt_ori = pvt_ori.drop(pvt_ori.columns[0], axis=1).reset_index(drop=True)\n",
    "\n",
    "mc_ori = pd.read_csv('data/mc.csv')\n",
    "mc_ori = mc_ori.drop(mc_ori.columns[0], axis=1).reset_index(drop=True)"
   ]
  },
  {
   "cell_type": "code",
   "execution_count": 35,
   "id": "67c41681",
   "metadata": {},
   "outputs": [
    {
     "name": "stdout",
     "output_type": "stream",
     "text": [
      "df description:\n",
      "                   t             v          freq             T             V  \\\n",
      "count  1.269288e+06  1.269288e+06  1.269288e+06  1.269288e+06  1.269288e+06   \n",
      "mean   4.250000e+01  1.500000e+00  8.793197e+08  4.250000e+01  1.500000e+00   \n",
      "std    4.905356e+01  8.803412e-02  1.920958e+08  4.905356e+01  8.164969e-02   \n",
      "min   -4.000000e+01  1.350000e+00  5.295000e+08 -4.000000e+01  1.400000e+00   \n",
      "25%    0.000000e+00  1.425000e+00  7.327750e+08  0.000000e+00  1.400000e+00   \n",
      "50%    4.250000e+01  1.500000e+00  8.605000e+08  4.250000e+01  1.500000e+00   \n",
      "75%    8.500000e+01  1.575000e+00  9.930500e+08  8.500000e+01  1.600000e+00   \n",
      "max    1.250000e+02  1.650000e+00  1.450000e+09  1.250000e+02  1.600000e+00   \n",
      "\n",
      "                 p'  \n",
      "count  1.269288e+06  \n",
      "mean   8.796057e+08  \n",
      "std    1.902332e+08  \n",
      "min    5.596000e+08  \n",
      "25%    7.326500e+08  \n",
      "50%    8.610500e+08  \n",
      "75%    9.863000e+08  \n",
      "max    1.398000e+09  \n",
      "\n",
      "mc description:\n",
      "                freq              t              v            p'         T  \\\n",
      "count  1.244400e+05  124440.000000  124440.000000  1.244400e+05  124440.0   \n",
      "mean   9.123657e+08      42.500000       1.500000  9.257317e+08      25.0   \n",
      "std    1.038497e+08      49.053739       0.088034  5.840608e+07       0.0   \n",
      "min    6.432000e+08     -40.000000       1.350000  8.181000e+08      25.0   \n",
      "25%    8.360000e+08       0.000000       1.425000  8.869750e+08      25.0   \n",
      "50%    9.064000e+08      42.500000       1.500000  9.226500e+08      25.0   \n",
      "75%    9.828000e+08      85.000000       1.575000  9.627000e+08      25.0   \n",
      "max    1.340000e+09     125.000000       1.650000  1.105000e+09      25.0   \n",
      "\n",
      "              V  \n",
      "count  124440.0  \n",
      "mean        1.5  \n",
      "std         0.0  \n",
      "min         1.5  \n",
      "25%         1.5  \n",
      "50%         1.5  \n",
      "75%         1.5  \n",
      "max         1.5  \n"
     ]
    }
   ],
   "source": [
    "print(\"df description:\\n\", pvt_ori.describe())\n",
    "print(\"\\nmc description:\\n\", mc_ori.describe())"
   ]
  },
  {
   "cell_type": "code",
   "execution_count": 36,
   "id": "585aafc3",
   "metadata": {},
   "outputs": [],
   "source": [
    "def plot_column_distributions(pvt_ori, mc_ori):\n",
    "    for col in pvt_ori.columns:\n",
    "        plt.figure(figsize=(10, 6))\n",
    "        plt.hist(pvt_ori[col], bins=20, alpha=0.5, label='pvt_ori')\n",
    "        plt.hist(mc_ori[col], bins=20, alpha=0.5, label='mc_ori')\n",
    "        plt.title(col)\n",
    "        plt.xlabel('Value')\n",
    "        plt.ylabel('Count')\n",
    "        plt.legend()\n",
    "        plt.grid(axis='y', alpha=0.75)\n",
    "        plt.show()"
   ]
  },
  {
   "cell_type": "code",
   "execution_count": 37,
   "id": "2fdec63b",
   "metadata": {},
   "outputs": [
    {
     "data": {
      "image/png": "[encoded data removed]",
      "text/plain": [
       "<Figure size 1000x600 with 1 Axes>"
      ]
     },
     "metadata": {},
     "output_type": "display_data"
    },
    {
     "data": {
      "image/png": "[encoded data removed]",
      "text/plain": [
       "<Figure size 1000x600 with 1 Axes>"
      ]
     },
     "metadata": {},
     "output_type": "display_data"
    },
    {
     "data": {
      "image/png": "[encoded data removed]",
      "text/plain": [
       "<Figure size 1000x600 with 1 Axes>"
      ]
     },
     "metadata": {},
     "output_type": "display_data"
    },
    {
     "data": {
      "image/png": "[encoded data removed]",
      "text/plain": [
       "<Figure size 1000x600 with 1 Axes>"
      ]
     },
     "metadata": {},
     "output_type": "display_data"
    },
    {
     "data": {
      "image/png": "[encoded data removed]",
      "text/plain": [
       "<Figure size 1000x600 with 1 Axes>"
      ]
     },
     "metadata": {},
     "output_type": "display_data"
    },
    {
     "data": {
      "image/png": "[encoded data removed]",
      "text/plain": [
       "<Figure size 1000x600 with 1 Axes>"
      ]
     },
     "metadata": {},
     "output_type": "display_data"
    }
   ],
   "source": [
    "plot_column_distributions(pvt_ori, mc_ori)"
   ]
  },
  {
   "cell_type": "code",
   "execution_count": 38,
   "id": "a9e8de68",
   "metadata": {},
   "outputs": [
    {
     "name": "stderr",
     "output_type": "stream",
     "text": [
      "c:\\Users\\ZengF\\AppData\\Local\\anaconda3\\Lib\\site-packages\\pandas\\core\\arraylike.py:402: RuntimeWarning: invalid value encountered in log1p\n",
      "  result = getattr(ufunc, method)(*inputs, **kwargs)\n"
     ]
    },
    {
     "data": {
      "image/png": "[encoded data removed]",
      "text/plain": [
       "<Figure size 1000x600 with 1 Axes>"
      ]
     },
     "metadata": {},
     "output_type": "display_data"
    }
   ],
   "source": [
    "plt.figure(figsize=(10, 6))\n",
    "\n",
    "# log transform\n",
    "log_pvt_ori_T = np.log1p(pvt_ori['T'])\n",
    "log_mc_ori_T = np.log1p(mc_ori['T'])\n",
    "\n",
    "plt.hist(log_pvt_ori_T, bins=20, alpha=0.5, label='pvt_ori')\n",
    "plt.hist(log_mc_ori_T, bins=20, alpha=0.5, label='mc_ori')\n",
    "\n",
    "plt.title('Log(T+1)')\n",
    "plt.xlabel('Value')\n",
    "plt.ylabel('Count')\n",
    "plt.legend()\n",
    "plt.grid(axis='y', alpha=0.75)\n",
    "plt.show()"
   ]
  },
  {
   "cell_type": "code",
   "execution_count": 39,
   "id": "2bfab7d7",
   "metadata": {},
   "outputs": [],
   "source": [
    "# fig, axes = plt.subplots(ncols=2, figsize=(16,4))\n",
    "# pvt_ori['freq'].plot(kind='density', ax=axes[0], label='df')\n",
    "# mc_ori['freq'].plot(kind='density', ax=axes[1], label='mc')\n",
    "# plt.show()"
   ]
  },
  {
   "cell_type": "code",
   "execution_count": 40,
   "id": "8662edd0",
   "metadata": {},
   "outputs": [],
   "source": [
    "# from scipy.stats import ks_2samp, mannwhitneyu\n",
    "\n",
    "# # K-S test\n",
    "# print(ks_2samp(pvt_ori['v'], mc_ori['v']))"
   ]
  }
 ],
 "metadata": {
  "kernelspec": {
   "display_name": "Python 3 (ipykernel)",
   "language": "python",
   "name": "python3"
  },
  "language_info": {
   "codemirror_mode": {
    "name": "ipython",
    "version": 3
   },
   "file_extension": ".py",
   "mimetype": "text/x-python",
   "name": "python",
   "nbconvert_exporter": "python",
   "pygments_lexer": "ipython3",
   "version": "3.11.7"
  }
 },
 "nbformat": 4,
 "nbformat_minor": 5
}
